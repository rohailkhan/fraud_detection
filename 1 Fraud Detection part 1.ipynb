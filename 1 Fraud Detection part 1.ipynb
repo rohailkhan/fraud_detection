{
 "cells": [
  {
   "cell_type": "markdown",
   "metadata": {
    "id": "XJFglnVazvpe"
   },
   "source": [
    "# Fraud Dedections Explained"
   ]
  },
  {
   "cell_type": "code",
   "execution_count": 1,
   "metadata": {
    "id": "hsLUWywczqB5"
   },
   "outputs": [],
   "source": [
    "import numpy as np\n",
    "from matplotlib import pyplot as plt\n",
    "import pandas as pd"
   ]
  },
  {
   "cell_type": "code",
   "execution_count": 2,
   "metadata": {
    "colab": {
     "base_uri": "https://localhost:8080/"
    },
    "id": "DRCAspWbg6u_",
    "outputId": "3ae65d5d-ec67-4fcb-941a-918121f2946f"
   },
   "outputs": [
    {
     "name": "stdout",
     "output_type": "stream",
     "text": [
      "Mounted at /content/drive\n"
     ]
    }
   ],
   "source": [
    "# from google.colab import drive\n",
    "# drive.mount('/content/drive')"
   ]
  },
  {
   "cell_type": "markdown",
   "metadata": {
    "id": "v-J-oDRJzscC"
   },
   "source": []
  },
  {
   "cell_type": "code",
   "execution_count": 3,
   "metadata": {
    "colab": {
     "base_uri": "https://localhost:8080/",
     "height": 173
    },
    "id": "LicQNH3Gi-xi",
    "outputId": "cda69d1f-0272-4f0e-d87e-986476d317bf"
   },
   "outputs": [
    {
     "data": {
      "text/html": [
       "<div>\n",
       "<style scoped>\n",
       "    .dataframe tbody tr th:only-of-type {\n",
       "        vertical-align: middle;\n",
       "    }\n",
       "\n",
       "    .dataframe tbody tr th {\n",
       "        vertical-align: top;\n",
       "    }\n",
       "\n",
       "    .dataframe thead th {\n",
       "        text-align: right;\n",
       "    }\n",
       "</style>\n",
       "<table border=\"1\" class=\"dataframe\">\n",
       "  <thead>\n",
       "    <tr style=\"text-align: right;\">\n",
       "      <th></th>\n",
       "      <th>Unnamed: 0</th>\n",
       "      <th>Time</th>\n",
       "      <th>V1</th>\n",
       "      <th>V2</th>\n",
       "      <th>V3</th>\n",
       "      <th>V4</th>\n",
       "      <th>V5</th>\n",
       "      <th>V6</th>\n",
       "      <th>V7</th>\n",
       "      <th>V8</th>\n",
       "      <th>V9</th>\n",
       "      <th>V10</th>\n",
       "      <th>V11</th>\n",
       "      <th>V12</th>\n",
       "      <th>V13</th>\n",
       "      <th>V14</th>\n",
       "      <th>V15</th>\n",
       "      <th>V16</th>\n",
       "      <th>V17</th>\n",
       "      <th>V18</th>\n",
       "      <th>V19</th>\n",
       "      <th>V20</th>\n",
       "      <th>V21</th>\n",
       "      <th>V22</th>\n",
       "      <th>V23</th>\n",
       "      <th>V24</th>\n",
       "      <th>V25</th>\n",
       "      <th>V26</th>\n",
       "      <th>V27</th>\n",
       "      <th>V28</th>\n",
       "      <th>Amount</th>\n",
       "      <th>Class</th>\n",
       "    </tr>\n",
       "  </thead>\n",
       "  <tbody>\n",
       "    <tr>\n",
       "      <th>0</th>\n",
       "      <td>0</td>\n",
       "      <td>64</td>\n",
       "      <td>1.212511</td>\n",
       "      <td>-0.099054</td>\n",
       "      <td>-1.192094</td>\n",
       "      <td>0.286324</td>\n",
       "      <td>2.160516</td>\n",
       "      <td>3.616314</td>\n",
       "      <td>-0.404207</td>\n",
       "      <td>0.842331</td>\n",
       "      <td>0.169360</td>\n",
       "      <td>-0.030522</td>\n",
       "      <td>-0.541957</td>\n",
       "      <td>0.237212</td>\n",
       "      <td>-0.218130</td>\n",
       "      <td>0.197437</td>\n",
       "      <td>-0.147850</td>\n",
       "      <td>-0.097830</td>\n",
       "      <td>-0.510053</td>\n",
       "      <td>-0.070939</td>\n",
       "      <td>0.355171</td>\n",
       "      <td>0.014777</td>\n",
       "      <td>-0.167496</td>\n",
       "      <td>-0.494695</td>\n",
       "      <td>-0.149785</td>\n",
       "      <td>1.011227</td>\n",
       "      <td>0.883548</td>\n",
       "      <td>-0.329434</td>\n",
       "      <td>0.020370</td>\n",
       "      <td>0.017037</td>\n",
       "      <td>34.70</td>\n",
       "      <td>0</td>\n",
       "    </tr>\n",
       "    <tr>\n",
       "      <th>1</th>\n",
       "      <td>1</td>\n",
       "      <td>64</td>\n",
       "      <td>-0.658305</td>\n",
       "      <td>0.406791</td>\n",
       "      <td>2.037461</td>\n",
       "      <td>-0.291298</td>\n",
       "      <td>0.147910</td>\n",
       "      <td>-0.350857</td>\n",
       "      <td>0.945373</td>\n",
       "      <td>-0.172560</td>\n",
       "      <td>0.025133</td>\n",
       "      <td>-0.778135</td>\n",
       "      <td>-0.196290</td>\n",
       "      <td>0.632955</td>\n",
       "      <td>0.374025</td>\n",
       "      <td>-0.531597</td>\n",
       "      <td>-0.615063</td>\n",
       "      <td>-0.518078</td>\n",
       "      <td>0.003881</td>\n",
       "      <td>-1.288954</td>\n",
       "      <td>-0.797804</td>\n",
       "      <td>0.064133</td>\n",
       "      <td>-0.156096</td>\n",
       "      <td>-0.238805</td>\n",
       "      <td>0.089877</td>\n",
       "      <td>0.421195</td>\n",
       "      <td>-0.352487</td>\n",
       "      <td>0.074783</td>\n",
       "      <td>-0.094192</td>\n",
       "      <td>-0.092493</td>\n",
       "      <td>54.99</td>\n",
       "      <td>0</td>\n",
       "    </tr>\n",
       "    <tr>\n",
       "      <th>2</th>\n",
       "      <td>2</td>\n",
       "      <td>124</td>\n",
       "      <td>1.105253</td>\n",
       "      <td>0.541842</td>\n",
       "      <td>0.839421</td>\n",
       "      <td>2.570933</td>\n",
       "      <td>-0.279517</td>\n",
       "      <td>-0.423062</td>\n",
       "      <td>0.088019</td>\n",
       "      <td>0.011622</td>\n",
       "      <td>-0.715756</td>\n",
       "      <td>0.651379</td>\n",
       "      <td>0.073787</td>\n",
       "      <td>-0.142024</td>\n",
       "      <td>-0.739457</td>\n",
       "      <td>0.502639</td>\n",
       "      <td>0.736688</td>\n",
       "      <td>0.256745</td>\n",
       "      <td>-0.093732</td>\n",
       "      <td>-1.011416</td>\n",
       "      <td>-1.465500</td>\n",
       "      <td>-0.239883</td>\n",
       "      <td>-0.137434</td>\n",
       "      <td>-0.460991</td>\n",
       "      <td>0.189397</td>\n",
       "      <td>0.556329</td>\n",
       "      <td>0.185786</td>\n",
       "      <td>-0.189030</td>\n",
       "      <td>0.000208</td>\n",
       "      <td>0.026167</td>\n",
       "      <td>6.24</td>\n",
       "      <td>0</td>\n",
       "    </tr>\n",
       "  </tbody>\n",
       "</table>\n",
       "</div>"
      ],
      "text/plain": [
       "   Unnamed: 0  Time        V1        V2  ...       V27       V28  Amount  Class\n",
       "0           0    64  1.212511 -0.099054  ...  0.020370  0.017037   34.70      0\n",
       "1           1    64 -0.658305  0.406791  ... -0.094192 -0.092493   54.99      0\n",
       "2           2   124  1.105253  0.541842  ...  0.000208  0.026167    6.24      0\n",
       "\n",
       "[3 rows x 32 columns]"
      ]
     },
     "execution_count": 3,
     "metadata": {
      "tags": []
     },
     "output_type": "execute_result"
    }
   ],
   "source": [
    "df1=pd.read_csv('/content/drive/MyDrive/Learn Data Science/Fraud detection/creditcard_sampledata.csv')\n",
    "df1.head(3)"
   ]
  },
  {
   "cell_type": "code",
   "execution_count": 4,
   "metadata": {
    "colab": {
     "base_uri": "https://localhost:8080/"
    },
    "id": "45m10uH2jjvm",
    "outputId": "34b82b2c-ae26-4f51-eba8-546f28becbdd"
   },
   "outputs": [
    {
     "data": {
      "text/plain": [
       "(8000, 32)"
      ]
     },
     "execution_count": 4,
     "metadata": {
      "tags": []
     },
     "output_type": "execute_result"
    }
   ],
   "source": [
    "df1.shape"
   ]
  },
  {
   "cell_type": "markdown",
   "metadata": {
    "id": "WE0Vssom0CQy"
   },
   "source": [
    "### Ration of fraud i.e Class=0 wrt not Fraud Class=1 "
   ]
  },
  {
   "cell_type": "code",
   "execution_count": 5,
   "metadata": {
    "colab": {
     "base_uri": "https://localhost:8080/"
    },
    "id": "GuIdw0_A0Jbx",
    "outputId": "4986daa3-7bbc-4c90-88a0-b61488597b95"
   },
   "outputs": [
    {
     "name": "stdout",
     "output_type": "stream",
     "text": [
      "0    7983\n",
      "1      17\n",
      "Name: Class, dtype: int64\n"
     ]
    }
   ],
   "source": [
    "# Count the occurrences of fraud and no fraud and print them\n",
    "occ = df1['Class'].value_counts()\n",
    "print(occ)"
   ]
  },
  {
   "cell_type": "code",
   "execution_count": 6,
   "metadata": {
    "colab": {
     "base_uri": "https://localhost:8080/"
    },
    "id": "fg2Qt6h20Uy6",
    "outputId": "7f1032ad-aa29-42dc-e5c5-360883abcea2"
   },
   "outputs": [
    {
     "name": "stdout",
     "output_type": "stream",
     "text": [
      "0    0.997875\n",
      "1    0.002125\n",
      "Name: Class, dtype: float64\n"
     ]
    }
   ],
   "source": [
    "# Print the ratio of fraud cases\n",
    "print(occ / len(df1))"
   ]
  },
  {
   "cell_type": "markdown",
   "metadata": {
    "id": "aRwHkVdX_zRP"
   },
   "source": [
    "## Plotting the two classes"
   ]
  },
  {
   "cell_type": "code",
   "execution_count": 7,
   "metadata": {
    "colab": {
     "base_uri": "https://localhost:8080/"
    },
    "id": "x3E_1rtmk6wh",
    "outputId": "fcc3f8a5-781f-482f-ecd7-c84df4df731d"
   },
   "outputs": [
    {
     "data": {
      "text/plain": [
       "(5050, 29)"
      ]
     },
     "execution_count": 7,
     "metadata": {
      "tags": []
     },
     "output_type": "execute_result"
    }
   ],
   "source": [
    "## make subset of df1 with 5050 rows for plotting purpose...just 5500 rows and remove the 3 columns Unnamed,Time,Amount\n",
    "df1.iloc[0:5050,:].drop(columns=['Unnamed: 0','Time','Amount']).shape"
   ]
  },
  {
   "cell_type": "code",
   "execution_count": 8,
   "metadata": {
    "colab": {
     "base_uri": "https://localhost:8080/"
    },
    "id": "lYR4W7hKk62z",
    "outputId": "240d7ee0-f5e6-4afa-dd23-65b9560444c5"
   },
   "outputs": [
    {
     "data": {
      "text/plain": [
       "(5500,)"
      ]
     },
     "execution_count": 8,
     "metadata": {
      "tags": []
     },
     "output_type": "execute_result"
    }
   ],
   "source": [
    "# classes or labels y\n",
    "y=df1.iloc[0:5500,:]['Class'].values\n",
    "y.shape"
   ]
  },
  {
   "cell_type": "code",
   "execution_count": 9,
   "metadata": {
    "colab": {
     "base_uri": "https://localhost:8080/"
    },
    "id": "ZUAoRmzak7CH",
    "outputId": "8a6c2d76-687d-45ef-d5dc-7e96a6011c49"
   },
   "outputs": [
    {
     "data": {
      "text/plain": [
       "(5500, 28)"
      ]
     },
     "execution_count": 9,
     "metadata": {
      "tags": []
     },
     "output_type": "execute_result"
    }
   ],
   "source": [
    "# features\n",
    "X=df1.iloc[0:5500,:].drop(columns=['Unnamed: 0','Time','Amount','Class']).values\n",
    "X.shape"
   ]
  },
  {
   "cell_type": "code",
   "execution_count": 10,
   "metadata": {
    "colab": {
     "base_uri": "https://localhost:8080/",
     "height": 268
    },
    "id": "8FzO4AvivJ4c",
    "outputId": "e0e281e2-b0e7-45b9-b149-1aa2c0d20106"
   },
   "outputs": [
    {
     "data": {
      "image/png": "[encoded data removed]",
      "text/plain": [
       "<Figure size 432x288 with 1 Axes>"
      ]
     },
     "metadata": {
      "needs_background": "light",
      "tags": []
     },
     "output_type": "display_data"
    }
   ],
   "source": [
    "def plot_data(X, y):\n",
    "\tplt.scatter(X[y == 0, 1], X[y == 0, 2], label=\"Class #0\", alpha=0.5, linewidth=0.15)\n",
    "\tplt.scatter(X[y == 1, 1], X[y == 1, 2], label=\"Class #1\", alpha=0.5, linewidth=0.15, c='r')\n",
    "\tplt.legend()\n",
    "\treturn plt.show()\n",
    "plot_data(X, y)"
   ]
  },
  {
   "cell_type": "code",
   "execution_count": 11,
   "metadata": {
    "colab": {
     "base_uri": "https://localhost:8080/",
     "height": 266
    },
    "id": "sEIhejBrzZic",
    "outputId": "851a6f5e-7c61-4a26-e6e2-77a4f961c8d9"
   },
   "outputs": [
    {
     "data": {
      "image/png": "[encoded data removed]",
      "text/plain": [
       "<Figure size 432x288 with 1 Axes>"
      ]
     },
     "metadata": {
      "needs_background": "light",
      "tags": []
     },
     "output_type": "display_data"
    }
   ],
   "source": [
    "def plot_data(X, y):\n",
    "\tplt.scatter(X[y == 0, 3], X[y == 0, 4], label=\"Class #0\", alpha=0.5, linewidth=0.15)\n",
    "\tplt.scatter(X[y == 1, 3], X[y == 1, 4], label=\"Class #1\", alpha=0.5, linewidth=0.15, c='r')\n",
    "\tplt.legend()\n",
    "\treturn plt.show()\n",
    "plot_data(X, y)"
   ]
  },
  {
   "cell_type": "code",
   "execution_count": 12,
   "metadata": {
    "id": "drKsLkUDu8qj"
   },
   "outputs": [],
   "source": [
    "def plot_data(X, y):\n",
    "\tplt.scatter(X[y == 0, 0], X[y == 0, 1], label=\"Class #0\", alpha=0.5, linewidth=0.15)\n",
    "\tplt.scatter(X[y == 1, 0], X[y == 1, 1], label=\"Class #1\", alpha=0.5, linewidth=0.15, c='r')\n",
    "\tplt.legend()\n",
    "\treturn plt.show()"
   ]
  },
  {
   "cell_type": "code",
   "execution_count": 13,
   "metadata": {
    "colab": {
     "base_uri": "https://localhost:8080/",
     "height": 265
    },
    "id": "pSubWBfWu-6s",
    "outputId": "0939ed23-d14c-4e8c-cbfb-d0f755c924b8"
   },
   "outputs": [
    {
     "data": {
      "image/png": "[encoded data removed]",
      "text/plain": [
       "<Figure size 432x288 with 1 Axes>"
      ]
     },
     "metadata": {
      "needs_background": "light",
      "tags": []
     },
     "output_type": "display_data"
    }
   ],
   "source": [
    "plot_data(X, y)"
   ]
  },
  {
   "cell_type": "markdown",
   "metadata": {
    "id": "MpwJmP3GAjxC"
   },
   "source": [
    "## Removing class imbalance Techniques\n",
    "### 1 Random over sampling (ROS)\n",
    "### 2 Random Under sampling (RUS)\n",
    "### 3 Synthetic Minority Over-sampling Technique (SMOTE)\n",
    "\n",
    "By using ROS and SMOTE you add more examples to the minority class. RUS adjusts the balance of your data by reducing the majority class."
   ]
  },
  {
   "cell_type": "code",
   "execution_count": 14,
   "metadata": {
    "colab": {
     "base_uri": "https://localhost:8080/"
    },
    "id": "f5526afUwuPB",
    "outputId": "c4a5f4f7-aa9e-4012-f0ab-6a4244b53902"
   },
   "outputs": [
    {
     "name": "stderr",
     "output_type": "stream",
     "text": [
      "/usr/local/lib/python3.7/dist-packages/sklearn/externals/six.py:31: FutureWarning: The module is deprecated in version 0.21 and will be removed in version 0.23 since we've dropped support for Python 2.7. Please rely on the official version of six (https://pypi.org/project/six/).\n",
      "  \"(https://pypi.org/project/six/).\", FutureWarning)\n",
      "/usr/local/lib/python3.7/dist-packages/sklearn/utils/deprecation.py:144: FutureWarning: The sklearn.neighbors.base module is  deprecated in version 0.22 and will be removed in version 0.24. The corresponding classes / functions should instead be imported from sklearn.neighbors. Anything that cannot be imported from sklearn.neighbors is now part of the private API.\n",
      "  warnings.warn(message, FutureWarning)\n"
     ]
    }
   ],
   "source": [
    "from imblearn.over_sampling import SMOTE"
   ]
  },
  {
   "cell_type": "code",
   "execution_count": 15,
   "metadata": {
    "id": "1s48w5pCRjrd"
   },
   "outputs": [],
   "source": [
    "# Define the resampling method\n",
    "# method = SMOTE(kind='borderline1')\n",
    "method = SMOTE(kind='regular')"
   ]
  },
  {
   "cell_type": "code",
   "execution_count": 16,
   "metadata": {
    "colab": {
     "base_uri": "https://localhost:8080/",
     "height": 318
    },
    "id": "QWAkdxeuRc6i",
    "outputId": "447c643e-177b-497c-e9c5-0741fbf25b92"
   },
   "outputs": [
    {
     "name": "stderr",
     "output_type": "stream",
     "text": [
      "/usr/local/lib/python3.7/dist-packages/sklearn/utils/deprecation.py:87: FutureWarning: Function safe_indexing is deprecated; safe_indexing is deprecated in version 0.22 and will be removed in version 0.24.\n",
      "  warnings.warn(msg, category=FutureWarning)\n"
     ]
    },
    {
     "data": {
      "image/png": "[encoded data removed]",
      "text/plain": [
       "<Figure size 432x288 with 1 Axes>"
      ]
     },
     "metadata": {
      "needs_background": "light",
      "tags": []
     },
     "output_type": "display_data"
    }
   ],
   "source": [
    "# Create the resampled feature set\n",
    "X_resampled, y_resampled = method.fit_sample(X, y)\n",
    "\n",
    "# Plot the resampled data\n",
    "plot_data(X_resampled, y_resampled)\n",
    "plt.show()"
   ]
  },
  {
   "cell_type": "markdown",
   "metadata": {
    "id": "E82Xu5IESV-9"
   },
   "source": [
    "Succes! As you can see, our minority class is now much more prominently visible in our data. To see the results of SMOTE even better, we'll compare it to the original data in the next "
   ]
  },
  {
   "cell_type": "code",
   "execution_count": 17,
   "metadata": {
    "colab": {
     "base_uri": "https://localhost:8080/"
    },
    "id": "3z0IbayBSYC5",
    "outputId": "349ad9be-88fb-4815-fd98-273d86724702"
   },
   "outputs": [
    {
     "name": "stdout",
     "output_type": "stream",
     "text": [
      "0    5486\n",
      "1      14\n",
      "dtype: int64\n",
      "1    5486\n",
      "0    5486\n",
      "dtype: int64\n"
     ]
    }
   ],
   "source": [
    "print(pd.value_counts(pd.Series(y)))\n",
    "\n",
    "# Print the value_counts\n",
    "print(pd.value_counts(pd.Series(y_resampled)))"
   ]
  },
  {
   "cell_type": "code",
   "execution_count": 18,
   "metadata": {
    "colab": {
     "base_uri": "https://localhost:8080/",
     "height": 513
    },
    "id": "2WrOtIU2WhwO",
    "outputId": "9ab3add6-9e22-4cdc-aeb8-98a90c9a9a0b"
   },
   "outputs": [
    {
     "data": {
      "image/png": "[encoded data removed]",
      "text/plain": [
       "<Figure size 432x288 with 1 Axes>"
      ]
     },
     "metadata": {
      "needs_background": "light",
      "tags": []
     },
     "output_type": "display_data"
    },
    {
     "data": {
      "image/png": "[encoded data removed]",
      "text/plain": [
       "<Figure size 432x288 with 1 Axes>"
      ]
     },
     "metadata": {
      "needs_background": "light",
      "tags": []
     },
     "output_type": "display_data"
    }
   ],
   "source": [
    "# Compare both the plots\n",
    "plot_data(X, y)\n",
    "plot_data(X_resampled, y_resampled)"
   ]
  },
  {
   "cell_type": "markdown",
   "metadata": {
    "id": "neI17GsC943H"
   },
   "source": [
    "## Exploring the traditional way to catch fraud"
   ]
  },
  {
   "cell_type": "code",
   "execution_count": 19,
   "metadata": {
    "colab": {
     "base_uri": "https://localhost:8080/"
    },
    "id": "8pCS8jAo98lC",
    "outputId": "deb10ef3-8c27-4946-fe9d-8ae16af5e7dd"
   },
   "outputs": [
    {
     "data": {
      "text/plain": [
       "(5050, 29)"
      ]
     },
     "execution_count": 19,
     "metadata": {
      "tags": []
     },
     "output_type": "execute_result"
    }
   ],
   "source": [
    "df2=df1.iloc[0:5050,:].drop(columns=['Unnamed: 0','Time','Amount'])\n",
    "df2.shape"
   ]
  },
  {
   "cell_type": "code",
   "execution_count": 20,
   "metadata": {
    "colab": {
     "base_uri": "https://localhost:8080/",
     "height": 156
    },
    "id": "5svq8cwu47pw",
    "outputId": "44635780-b842-43c3-e6db-6cbd402c939a"
   },
   "outputs": [
    {
     "data": {
      "text/html": [
       "<div>\n",
       "<style scoped>\n",
       "    .dataframe tbody tr th:only-of-type {\n",
       "        vertical-align: middle;\n",
       "    }\n",
       "\n",
       "    .dataframe tbody tr th {\n",
       "        vertical-align: top;\n",
       "    }\n",
       "\n",
       "    .dataframe thead th {\n",
       "        text-align: right;\n",
       "    }\n",
       "</style>\n",
       "<table border=\"1\" class=\"dataframe\">\n",
       "  <thead>\n",
       "    <tr style=\"text-align: right;\">\n",
       "      <th></th>\n",
       "      <th>V1</th>\n",
       "      <th>V2</th>\n",
       "      <th>V3</th>\n",
       "      <th>V4</th>\n",
       "      <th>V5</th>\n",
       "      <th>V6</th>\n",
       "      <th>V7</th>\n",
       "      <th>V8</th>\n",
       "      <th>V9</th>\n",
       "      <th>V10</th>\n",
       "      <th>V11</th>\n",
       "      <th>V12</th>\n",
       "      <th>V13</th>\n",
       "      <th>V14</th>\n",
       "      <th>V15</th>\n",
       "      <th>V16</th>\n",
       "      <th>V17</th>\n",
       "      <th>V18</th>\n",
       "      <th>V19</th>\n",
       "      <th>V20</th>\n",
       "      <th>V21</th>\n",
       "      <th>V22</th>\n",
       "      <th>V23</th>\n",
       "      <th>V24</th>\n",
       "      <th>V25</th>\n",
       "      <th>V26</th>\n",
       "      <th>V27</th>\n",
       "      <th>V28</th>\n",
       "    </tr>\n",
       "    <tr>\n",
       "      <th>Class</th>\n",
       "      <th></th>\n",
       "      <th></th>\n",
       "      <th></th>\n",
       "      <th></th>\n",
       "      <th></th>\n",
       "      <th></th>\n",
       "      <th></th>\n",
       "      <th></th>\n",
       "      <th></th>\n",
       "      <th></th>\n",
       "      <th></th>\n",
       "      <th></th>\n",
       "      <th></th>\n",
       "      <th></th>\n",
       "      <th></th>\n",
       "      <th></th>\n",
       "      <th></th>\n",
       "      <th></th>\n",
       "      <th></th>\n",
       "      <th></th>\n",
       "      <th></th>\n",
       "      <th></th>\n",
       "      <th></th>\n",
       "      <th></th>\n",
       "      <th></th>\n",
       "      <th></th>\n",
       "      <th></th>\n",
       "      <th></th>\n",
       "    </tr>\n",
       "  </thead>\n",
       "  <tbody>\n",
       "    <tr>\n",
       "      <th>0</th>\n",
       "      <td>-0.101664</td>\n",
       "      <td>0.009713</td>\n",
       "      <td>0.440823</td>\n",
       "      <td>0.065828</td>\n",
       "      <td>-0.176007</td>\n",
       "      <td>0.053548</td>\n",
       "      <td>-0.040946</td>\n",
       "      <td>0.025675</td>\n",
       "      <td>0.002215</td>\n",
       "      <td>-0.016758</td>\n",
       "      <td>0.181154</td>\n",
       "      <td>-0.075182</td>\n",
       "      <td>0.049966</td>\n",
       "      <td>0.089864</td>\n",
       "      <td>0.099092</td>\n",
       "      <td>-0.004954</td>\n",
       "      <td>0.042407</td>\n",
       "      <td>-0.037083</td>\n",
       "      <td>-0.034748</td>\n",
       "      <td>0.022369</td>\n",
       "      <td>-0.028713</td>\n",
       "      <td>-0.039589</td>\n",
       "      <td>-0.014607</td>\n",
       "      <td>0.005995</td>\n",
       "      <td>0.080379</td>\n",
       "      <td>0.013802</td>\n",
       "      <td>-0.006723</td>\n",
       "      <td>0.005212</td>\n",
       "    </tr>\n",
       "    <tr>\n",
       "      <th>1</th>\n",
       "      <td>-3.905784</td>\n",
       "      <td>1.620038</td>\n",
       "      <td>-4.048780</td>\n",
       "      <td>2.668938</td>\n",
       "      <td>-1.883273</td>\n",
       "      <td>-1.300185</td>\n",
       "      <td>-4.437797</td>\n",
       "      <td>-0.111434</td>\n",
       "      <td>-1.676889</td>\n",
       "      <td>-5.084614</td>\n",
       "      <td>3.111378</td>\n",
       "      <td>-5.325893</td>\n",
       "      <td>-0.641796</td>\n",
       "      <td>-5.365369</td>\n",
       "      <td>-0.109552</td>\n",
       "      <td>-3.760092</td>\n",
       "      <td>-6.406727</td>\n",
       "      <td>-1.988536</td>\n",
       "      <td>0.523673</td>\n",
       "      <td>-0.206057</td>\n",
       "      <td>0.476290</td>\n",
       "      <td>0.067390</td>\n",
       "      <td>-0.184944</td>\n",
       "      <td>-0.095988</td>\n",
       "      <td>0.250236</td>\n",
       "      <td>-0.001566</td>\n",
       "      <td>0.345530</td>\n",
       "      <td>0.113162</td>\n",
       "    </tr>\n",
       "  </tbody>\n",
       "</table>\n",
       "</div>"
      ],
      "text/plain": [
       "             V1        V2        V3  ...       V26       V27       V28\n",
       "Class                                ...                              \n",
       "0     -0.101664  0.009713  0.440823  ...  0.013802 -0.006723  0.005212\n",
       "1     -3.905784  1.620038 -4.048780  ... -0.001566  0.345530  0.113162\n",
       "\n",
       "[2 rows x 28 columns]"
      ]
     },
     "execution_count": 20,
     "metadata": {
      "tags": []
     },
     "output_type": "execute_result"
    }
   ],
   "source": [
    "df2.iloc[0:5050,:].groupby('Class').mean()"
   ]
  },
  {
   "cell_type": "code",
   "execution_count": 21,
   "metadata": {
    "id": "-1DpzrMK6lwi"
   },
   "outputs": [],
   "source": [
    "# Implement a rule for stating which cases are flagged as fraud\n",
    "## Just take V1 and V2. V<-3 and V3<-5 will have Class=1 i.e fraud\n",
    "## use np.where (np.logical_and, 1,0) for this\n",
    "\n",
    "df2['Considered Fraud']=np.where(np.logical_and(df2.V1<-3,df2.V3<-5),1,0)\n",
    "\n"
   ]
  },
  {
   "cell_type": "code",
   "execution_count": 22,
   "metadata": {
    "colab": {
     "base_uri": "https://localhost:8080/",
     "height": 232
    },
    "id": "stym1KG-Ag7t",
    "outputId": "f24042d5-bb15-4049-a795-b78edfb8e985"
   },
   "outputs": [
    {
     "data": {
      "text/html": [
       "<div>\n",
       "<style scoped>\n",
       "    .dataframe tbody tr th:only-of-type {\n",
       "        vertical-align: middle;\n",
       "    }\n",
       "\n",
       "    .dataframe tbody tr th {\n",
       "        vertical-align: top;\n",
       "    }\n",
       "\n",
       "    .dataframe thead th {\n",
       "        text-align: right;\n",
       "    }\n",
       "</style>\n",
       "<table border=\"1\" class=\"dataframe\">\n",
       "  <thead>\n",
       "    <tr style=\"text-align: right;\">\n",
       "      <th></th>\n",
       "      <th>V1</th>\n",
       "      <th>V2</th>\n",
       "      <th>V3</th>\n",
       "      <th>V4</th>\n",
       "      <th>V5</th>\n",
       "      <th>V6</th>\n",
       "      <th>V7</th>\n",
       "      <th>V8</th>\n",
       "      <th>V9</th>\n",
       "      <th>V10</th>\n",
       "      <th>V11</th>\n",
       "      <th>V12</th>\n",
       "      <th>V13</th>\n",
       "      <th>V14</th>\n",
       "      <th>V15</th>\n",
       "      <th>V16</th>\n",
       "      <th>V17</th>\n",
       "      <th>V18</th>\n",
       "      <th>V19</th>\n",
       "      <th>V20</th>\n",
       "      <th>V21</th>\n",
       "      <th>V22</th>\n",
       "      <th>V23</th>\n",
       "      <th>V24</th>\n",
       "      <th>V25</th>\n",
       "      <th>V26</th>\n",
       "      <th>V27</th>\n",
       "      <th>V28</th>\n",
       "      <th>Class</th>\n",
       "      <th>Considered Fraud</th>\n",
       "    </tr>\n",
       "  </thead>\n",
       "  <tbody>\n",
       "    <tr>\n",
       "      <th>0</th>\n",
       "      <td>1.212511</td>\n",
       "      <td>-0.099054</td>\n",
       "      <td>-1.192094</td>\n",
       "      <td>0.286324</td>\n",
       "      <td>2.160516</td>\n",
       "      <td>3.616314</td>\n",
       "      <td>-0.404207</td>\n",
       "      <td>0.842331</td>\n",
       "      <td>0.169360</td>\n",
       "      <td>-0.030522</td>\n",
       "      <td>-0.541957</td>\n",
       "      <td>0.237212</td>\n",
       "      <td>-0.218130</td>\n",
       "      <td>0.197437</td>\n",
       "      <td>-0.147850</td>\n",
       "      <td>-0.097830</td>\n",
       "      <td>-0.510053</td>\n",
       "      <td>-0.070939</td>\n",
       "      <td>0.355171</td>\n",
       "      <td>0.014777</td>\n",
       "      <td>-0.167496</td>\n",
       "      <td>-0.494695</td>\n",
       "      <td>-0.149785</td>\n",
       "      <td>1.011227</td>\n",
       "      <td>0.883548</td>\n",
       "      <td>-0.329434</td>\n",
       "      <td>0.020370</td>\n",
       "      <td>0.017037</td>\n",
       "      <td>0</td>\n",
       "      <td>0</td>\n",
       "    </tr>\n",
       "    <tr>\n",
       "      <th>1</th>\n",
       "      <td>-0.658305</td>\n",
       "      <td>0.406791</td>\n",
       "      <td>2.037461</td>\n",
       "      <td>-0.291298</td>\n",
       "      <td>0.147910</td>\n",
       "      <td>-0.350857</td>\n",
       "      <td>0.945373</td>\n",
       "      <td>-0.172560</td>\n",
       "      <td>0.025133</td>\n",
       "      <td>-0.778135</td>\n",
       "      <td>-0.196290</td>\n",
       "      <td>0.632955</td>\n",
       "      <td>0.374025</td>\n",
       "      <td>-0.531597</td>\n",
       "      <td>-0.615063</td>\n",
       "      <td>-0.518078</td>\n",
       "      <td>0.003881</td>\n",
       "      <td>-1.288954</td>\n",
       "      <td>-0.797804</td>\n",
       "      <td>0.064133</td>\n",
       "      <td>-0.156096</td>\n",
       "      <td>-0.238805</td>\n",
       "      <td>0.089877</td>\n",
       "      <td>0.421195</td>\n",
       "      <td>-0.352487</td>\n",
       "      <td>0.074783</td>\n",
       "      <td>-0.094192</td>\n",
       "      <td>-0.092493</td>\n",
       "      <td>0</td>\n",
       "      <td>0</td>\n",
       "    </tr>\n",
       "    <tr>\n",
       "      <th>2</th>\n",
       "      <td>1.105253</td>\n",
       "      <td>0.541842</td>\n",
       "      <td>0.839421</td>\n",
       "      <td>2.570933</td>\n",
       "      <td>-0.279517</td>\n",
       "      <td>-0.423062</td>\n",
       "      <td>0.088019</td>\n",
       "      <td>0.011622</td>\n",
       "      <td>-0.715756</td>\n",
       "      <td>0.651379</td>\n",
       "      <td>0.073787</td>\n",
       "      <td>-0.142024</td>\n",
       "      <td>-0.739457</td>\n",
       "      <td>0.502639</td>\n",
       "      <td>0.736688</td>\n",
       "      <td>0.256745</td>\n",
       "      <td>-0.093732</td>\n",
       "      <td>-1.011416</td>\n",
       "      <td>-1.465500</td>\n",
       "      <td>-0.239883</td>\n",
       "      <td>-0.137434</td>\n",
       "      <td>-0.460991</td>\n",
       "      <td>0.189397</td>\n",
       "      <td>0.556329</td>\n",
       "      <td>0.185786</td>\n",
       "      <td>-0.189030</td>\n",
       "      <td>0.000208</td>\n",
       "      <td>0.026167</td>\n",
       "      <td>0</td>\n",
       "      <td>0</td>\n",
       "    </tr>\n",
       "    <tr>\n",
       "      <th>3</th>\n",
       "      <td>1.239495</td>\n",
       "      <td>-0.182609</td>\n",
       "      <td>0.155058</td>\n",
       "      <td>-0.928892</td>\n",
       "      <td>-0.746227</td>\n",
       "      <td>-1.235608</td>\n",
       "      <td>-0.061695</td>\n",
       "      <td>-0.125223</td>\n",
       "      <td>0.984938</td>\n",
       "      <td>-0.746625</td>\n",
       "      <td>1.563459</td>\n",
       "      <td>0.890132</td>\n",
       "      <td>-0.985159</td>\n",
       "      <td>0.778734</td>\n",
       "      <td>1.016974</td>\n",
       "      <td>-0.429490</td>\n",
       "      <td>-0.335787</td>\n",
       "      <td>0.614690</td>\n",
       "      <td>0.703133</td>\n",
       "      <td>-0.160406</td>\n",
       "      <td>0.146077</td>\n",
       "      <td>0.481119</td>\n",
       "      <td>-0.140019</td>\n",
       "      <td>0.538261</td>\n",
       "      <td>0.710720</td>\n",
       "      <td>-0.621382</td>\n",
       "      <td>0.036867</td>\n",
       "      <td>0.010963</td>\n",
       "      <td>0</td>\n",
       "      <td>0</td>\n",
       "    </tr>\n",
       "    <tr>\n",
       "      <th>4</th>\n",
       "      <td>-1.571359</td>\n",
       "      <td>1.687508</td>\n",
       "      <td>0.734670</td>\n",
       "      <td>1.293350</td>\n",
       "      <td>-0.217532</td>\n",
       "      <td>-0.002677</td>\n",
       "      <td>0.147364</td>\n",
       "      <td>0.515362</td>\n",
       "      <td>-0.372442</td>\n",
       "      <td>0.078021</td>\n",
       "      <td>-0.592495</td>\n",
       "      <td>0.997941</td>\n",
       "      <td>1.109328</td>\n",
       "      <td>0.060048</td>\n",
       "      <td>0.086141</td>\n",
       "      <td>-1.149893</td>\n",
       "      <td>0.765198</td>\n",
       "      <td>-0.810589</td>\n",
       "      <td>0.737550</td>\n",
       "      <td>-0.093614</td>\n",
       "      <td>0.048549</td>\n",
       "      <td>0.377256</td>\n",
       "      <td>-0.030436</td>\n",
       "      <td>0.117608</td>\n",
       "      <td>-0.060520</td>\n",
       "      <td>-0.296550</td>\n",
       "      <td>-0.481570</td>\n",
       "      <td>-0.167897</td>\n",
       "      <td>0</td>\n",
       "      <td>0</td>\n",
       "    </tr>\n",
       "  </tbody>\n",
       "</table>\n",
       "</div>"
      ],
      "text/plain": [
       "         V1        V2        V3  ...       V28  Class  Considered Fraud\n",
       "0  1.212511 -0.099054 -1.192094  ...  0.017037      0                 0\n",
       "1 -0.658305  0.406791  2.037461  ... -0.092493      0                 0\n",
       "2  1.105253  0.541842  0.839421  ...  0.026167      0                 0\n",
       "3  1.239495 -0.182609  0.155058  ...  0.010963      0                 0\n",
       "4 -1.571359  1.687508  0.734670  ... -0.167897      0                 0\n",
       "\n",
       "[5 rows x 30 columns]"
      ]
     },
     "execution_count": 22,
     "metadata": {
      "tags": []
     },
     "output_type": "execute_result"
    }
   ],
   "source": [
    "df2.head()"
   ]
  },
  {
   "cell_type": "code",
   "execution_count": 23,
   "metadata": {
    "colab": {
     "base_uri": "https://localhost:8080/"
    },
    "id": "ycuk5Nk7Ap-d",
    "outputId": "33df54c4-5988-4cd2-a593-fa14a25d8f8a"
   },
   "outputs": [
    {
     "name": "stdout",
     "output_type": "stream",
     "text": [
      "Flagged Fraud     0   1\n",
      "Actual Fraud           \n",
      "0              5020  17\n",
      "1                 9   4\n"
     ]
    }
   ],
   "source": [
    " # a crosstab of flagged fraud cases versus the actual fraud cases\n",
    "print(pd.crosstab(df2.Class, df2['Considered Fraud'], rownames=['Actual Fraud'], colnames=['Flagged Fraud']))"
   ]
  },
  {
   "cell_type": "markdown",
   "metadata": {
    "id": "WkHo479DBCPI"
   },
   "source": [
    "We detected 4 out of 50 cases.So we have 46 false positives.Next we shall try using machine learning models for this"
   ]
  },
  {
   "cell_type": "markdown",
   "metadata": {
    "id": "KJk2fxzXBqCW"
   },
   "source": [
    "## Using Machine Learning Model to detect Fraud"
   ]
  },
  {
   "cell_type": "code",
   "execution_count": 24,
   "metadata": {
    "id": "VjA2pH5MBZ1-"
   },
   "outputs": [],
   "source": [
    "from sklearn.linear_model import LinearRegression ,LogisticRegression\n",
    "from sklearn.model_selection import train_test_split\n",
    "from sklearn import metrics"
   ]
  },
  {
   "cell_type": "code",
   "execution_count": 25,
   "metadata": {
    "colab": {
     "base_uri": "https://localhost:8080/"
    },
    "id": "G4WAAQWcCOnO",
    "outputId": "51df2d24-505e-4b5a-96aa-eb9246b6b706"
   },
   "outputs": [
    {
     "data": {
      "text/plain": [
       "Index(['Unnamed: 0', 'Time', 'V1', 'V2', 'V3', 'V4', 'V5', 'V6', 'V7', 'V8',\n",
       "       'V9', 'V10', 'V11', 'V12', 'V13', 'V14', 'V15', 'V16', 'V17', 'V18',\n",
       "       'V19', 'V20', 'V21', 'V22', 'V23', 'V24', 'V25', 'V26', 'V27', 'V28',\n",
       "       'Amount', 'Class'],\n",
       "      dtype='object')"
      ]
     },
     "execution_count": 25,
     "metadata": {
      "tags": []
     },
     "output_type": "execute_result"
    }
   ],
   "source": [
    "# getting the feature variables\n",
    "df1=pd.read_csv('/content/drive/MyDrive/Learn Data Science/Fraud detection/creditcard_sampledata.csv')\n",
    "\n",
    "df1.columns"
   ]
  },
  {
   "cell_type": "code",
   "execution_count": 26,
   "metadata": {
    "colab": {
     "base_uri": "https://localhost:8080/"
    },
    "id": "Uy29MRniCscB",
    "outputId": "45b64337-0add-4b78-8249-43691c80f283"
   },
   "outputs": [
    {
     "data": {
      "text/plain": [
       "(5050, 28)"
      ]
     },
     "execution_count": 26,
     "metadata": {
      "tags": []
     },
     "output_type": "execute_result"
    }
   ],
   "source": [
    "X=df1.iloc[0:5050,:].drop(columns=['Unnamed: 0', 'Time','Amount', 'Class']).values\n",
    "X.shape"
   ]
  },
  {
   "cell_type": "code",
   "execution_count": 27,
   "metadata": {
    "colab": {
     "base_uri": "https://localhost:8080/"
    },
    "id": "emsztC-NDKTU",
    "outputId": "ef914852-6ad8-4c63-81c9-68b6d5e85591"
   },
   "outputs": [
    {
     "data": {
      "text/plain": [
       "(5050,)"
      ]
     },
     "execution_count": 27,
     "metadata": {
      "tags": []
     },
     "output_type": "execute_result"
    }
   ],
   "source": [
    "y=df1.iloc[0:5050,:].drop(columns =['Unnamed: 0', 'Time','Amount'])['Class'].values\n",
    "y.shape"
   ]
  },
  {
   "cell_type": "code",
   "execution_count": 28,
   "metadata": {
    "colab": {
     "base_uri": "https://localhost:8080/"
    },
    "id": "qr-DxSsVB5QG",
    "outputId": "38bcfa2a-9c59-4790-8164-4298b8aa199d"
   },
   "outputs": [
    {
     "data": {
      "text/plain": [
       "LogisticRegression(C=1.0, class_weight=None, dual=False, fit_intercept=True,\n",
       "                   intercept_scaling=1, l1_ratio=None, max_iter=100,\n",
       "                   multi_class='auto', n_jobs=None, penalty='l2',\n",
       "                   random_state=None, solver='lbfgs', tol=0.0001, verbose=0,\n",
       "                   warm_start=False)"
      ]
     },
     "execution_count": 28,
     "metadata": {
      "tags": []
     },
     "output_type": "execute_result"
    }
   ],
   "source": [
    "# make 30% test data\n",
    "X_train, X_test, y_train, y_test = train_test_split(X, y, test_size=0.3, random_state=0)\n",
    "# Logistic regression object fitting\n",
    "model= LogisticRegression()\n",
    "model.fit(X_train,y_train)\n"
   ]
  },
  {
   "cell_type": "code",
   "execution_count": 29,
   "metadata": {
    "id": "3x8QLvUWGMi2"
   },
   "outputs": [],
   "source": [
    "#making predictions\n",
    "predicted=model.predict(X_test)"
   ]
  },
  {
   "cell_type": "code",
   "execution_count": 30,
   "metadata": {
    "id": "B66gKh5lHZMG"
   },
   "outputs": [],
   "source": [
    "## get the classification report\n",
    "from sklearn.metrics import classification_report"
   ]
  },
  {
   "cell_type": "code",
   "execution_count": 31,
   "metadata": {
    "colab": {
     "base_uri": "https://localhost:8080/",
     "height": 69
    },
    "id": "wTVisI6GHiq8",
    "outputId": "e6da91fc-6fc1-4d17-9b2f-d4a2ae5d5d55"
   },
   "outputs": [
    {
     "data": {
      "application/vnd.google.colaboratory.intrinsic+json": {
       "type": "string"
      },
      "text/plain": [
       "'              precision    recall  f1-score   support\\n\\n           0       1.00      1.00      1.00      1510\\n           1       1.00      0.40      0.57         5\\n\\n    accuracy                           1.00      1515\\n   macro avg       1.00      0.70      0.79      1515\\nweighted avg       1.00      1.00      1.00      1515\\n'"
      ]
     },
     "execution_count": 31,
     "metadata": {
      "tags": []
     },
     "output_type": "execute_result"
    }
   ],
   "source": [
    "classification_report(y_test,predicted)"
   ]
  },
  {
   "cell_type": "code",
   "execution_count": 32,
   "metadata": {
    "colab": {
     "base_uri": "https://localhost:8080/"
    },
    "id": "WUrUuNNXMdy9",
    "outputId": "43fb19fb-b3ed-4719-c7dc-9e47a3e819b7"
   },
   "outputs": [
    {
     "name": "stdout",
     "output_type": "stream",
     "text": [
      "Confusion matrix:\n",
      " [[1510    0]\n",
      " [   3    2]]\n"
     ]
    }
   ],
   "source": [
    "from sklearn.metrics import confusion_matrix\n",
    "conf_mat = confusion_matrix(y_true=y_test, y_pred=predicted)\n",
    "print('Confusion matrix:\\n', conf_mat)"
   ]
  },
  {
   "cell_type": "code",
   "execution_count": 33,
   "metadata": {
    "colab": {
     "base_uri": "https://localhost:8080/"
    },
    "id": "E-H4L37eNlLe",
    "outputId": "8d10fb58-28bf-4fe8-a60c-a962622ebfac"
   },
   "outputs": [
    {
     "data": {
      "text/plain": [
       "(1515, 28)"
      ]
     },
     "execution_count": 33,
     "metadata": {
      "tags": []
     },
     "output_type": "execute_result"
    }
   ],
   "source": [
    "X_test.shape"
   ]
  },
  {
   "cell_type": "code",
   "execution_count": 36,
   "metadata": {
    "colab": {
     "base_uri": "https://localhost:8080/"
    },
    "id": "1fLMZ1LnNP7N",
    "outputId": "a7e3c1cb-c610-4723-b449-6e293e34dd1b"
   },
   "outputs": [
    {
     "data": {
      "text/plain": [
       "array([[   0, 1510],\n",
       "       [   2,    3]])"
      ]
     },
     "execution_count": 36,
     "metadata": {
      "tags": []
     },
     "output_type": "execute_result"
    }
   ],
   "source": [
    "# default threshold is 0.5 but we can change it using predict proba\n",
    "# suppose we change it only for the first feature V1 ie. X\n",
    "# https://discuss.analyticsvidhya.com/t/what-is-the-difference-between-predict-and-predict-proba/67376/3\n",
    "threshold = 0.4\n",
    "y_pred = (model.predict_proba(X_test)[:, 0]> threshold).astype('float')\n",
    "confusion_matrix(y_test, y_pred)"
   ]
  },
  {
   "cell_type": "code",
   "execution_count": 37,
   "metadata": {
    "colab": {
     "base_uri": "https://localhost:8080/"
    },
    "id": "B9nKrUQVMsp9",
    "outputId": "a1b89dad-ed32-49fe-8a71-d5a88cc4320b"
   },
   "outputs": [
    {
     "data": {
      "text/plain": [
       "array([[1510,    0],\n",
       "       [   3,    2]])"
      ]
     },
     "execution_count": 37,
     "metadata": {
      "tags": []
     },
     "output_type": "execute_result"
    }
   ],
   "source": [
    "# default threshold is 0.5 but we can change it using predict proba\n",
    "threshold = 0.4\n",
    "y_pred = (model.predict_proba(X_test)[:, 1] > threshold).astype('float')\n",
    "confusion_matrix(y_test, y_pred)"
   ]
  },
  {
   "cell_type": "markdown",
   "metadata": {
    "id": "khFNkJedsT86"
   },
   "source": [
    "We are getting far fewer false positives, so that's an improvement. Also, we're catching a higher percentage of fraud cases, so that is also better than before. \n",
    "Why do we have fewer observations to look at in the confusion matrix? \n",
    "Remember we are using only our test data to calculate the model results on. \n",
    "We're comparing the crosstab on the full dataset from the last step, with a confusion matrix of only 30% of the total dataset, so that's where that difference comes from. \n",
    "Next, we'll dive deeper into understanding these model performance metrics. \n",
    "Let's now explore whether we can improve the prediction results even further with resampling methods."
   ]
  },
  {
   "cell_type": "markdown",
   "metadata": {
    "id": "OAA0QAs6xQIt"
   },
   "source": [
    "## Logistic regression combined with SMOTE\n",
    "### step-1. Making Pipeline for resampling and preferred model"
   ]
  },
  {
   "cell_type": "code",
   "execution_count": 38,
   "metadata": {
    "id": "i2FekwlOxS11"
   },
   "outputs": [],
   "source": [
    "# This is the pipeline module we need for this from imblearn\n",
    "from imblearn.pipeline import Pipeline "
   ]
  },
  {
   "cell_type": "code",
   "execution_count": 39,
   "metadata": {
    "id": "OIJF5kFbHHuT"
   },
   "outputs": [],
   "source": [
    "# Define which resampling method and which ML model to use in the pipeline\n",
    "resampling = SMOTE(kind='borderline2')\n",
    "model = LogisticRegression()"
   ]
  },
  {
   "cell_type": "code",
   "execution_count": 40,
   "metadata": {
    "id": "G_rhSsjjzd6-"
   },
   "outputs": [],
   "source": [
    "# Define the pipeline, tell it to combine SMOTE with the Logistic Regression model\n",
    "pipeline = Pipeline([('SMOTE', resampling), ('Logistic Regression', model)])"
   ]
  },
  {
   "cell_type": "markdown",
   "metadata": {
    "id": "ey75i4KKzw8g"
   },
   "source": [
    "## Step-2 Using the Pipeline on Test and train data"
   ]
  },
  {
   "cell_type": "code",
   "execution_count": 41,
   "metadata": {
    "id": "bI6_SHU20osd"
   },
   "outputs": [],
   "source": [
    "# Split  X and y, into a training and a test set and fit the pipeline onto the training data\n",
    "X_train, X_test, y_train, y_test = train_test_split(X, y, test_size=0.3, random_state=0)"
   ]
  },
  {
   "cell_type": "code",
   "execution_count": 43,
   "metadata": {
    "colab": {
     "base_uri": "https://localhost:8080/"
    },
    "id": "oLzKKWvk0um1",
    "outputId": "919a6c1b-00ba-4b38-c205-85e830e6570d"
   },
   "outputs": [
    {
     "name": "stderr",
     "output_type": "stream",
     "text": [
      "/usr/local/lib/python3.7/dist-packages/sklearn/utils/deprecation.py:87: FutureWarning: Function safe_indexing is deprecated; safe_indexing is deprecated in version 0.22 and will be removed in version 0.24.\n",
      "  warnings.warn(msg, category=FutureWarning)\n",
      "/usr/local/lib/python3.7/dist-packages/sklearn/utils/deprecation.py:87: FutureWarning: Function safe_indexing is deprecated; safe_indexing is deprecated in version 0.22 and will be removed in version 0.24.\n",
      "  warnings.warn(msg, category=FutureWarning)\n",
      "/usr/local/lib/python3.7/dist-packages/sklearn/utils/deprecation.py:87: FutureWarning: Function safe_indexing is deprecated; safe_indexing is deprecated in version 0.22 and will be removed in version 0.24.\n",
      "  warnings.warn(msg, category=FutureWarning)\n"
     ]
    }
   ],
   "source": [
    "# Fit  pipeline onto your training set and obtain predictions by fitting the model onto the test data \n",
    "pipeline.fit(X_train, y_train) \n",
    "predicted = pipeline.predict(X_test)"
   ]
  },
  {
   "cell_type": "code",
   "execution_count": 44,
   "metadata": {
    "colab": {
     "base_uri": "https://localhost:8080/"
    },
    "id": "rd7PlMnm8QCI",
    "outputId": "11d1706c-729c-4dd1-e614-30b7d780dfb7"
   },
   "outputs": [
    {
     "name": "stdout",
     "output_type": "stream",
     "text": [
      "Classifcation report:\n",
      "               precision    recall  f1-score   support\n",
      "\n",
      "           0       1.00      1.00      1.00      1510\n",
      "           1       0.50      0.80      0.62         5\n",
      "\n",
      "    accuracy                           1.00      1515\n",
      "   macro avg       0.75      0.90      0.81      1515\n",
      "weighted avg       1.00      1.00      1.00      1515\n",
      "\n"
     ]
    }
   ],
   "source": [
    "print('Classifcation report:\\n', classification_report(y_test, predicted))"
   ]
  },
  {
   "cell_type": "code",
   "execution_count": 45,
   "metadata": {
    "colab": {
     "base_uri": "https://localhost:8080/"
    },
    "id": "Y2fnf2328Zzu",
    "outputId": "b26cc005-2679-4134-c77e-a33236522965"
   },
   "outputs": [
    {
     "name": "stdout",
     "output_type": "stream",
     "text": [
      "Confusion matrix:\n",
      " [[1506    4]\n",
      " [   1    4]]\n"
     ]
    }
   ],
   "source": [
    "conf_mat = confusion_matrix(y_true=y_test, y_pred=predicted)\n",
    "print('Confusion matrix:\\n', conf_mat)"
   ]
  },
  {
   "cell_type": "markdown",
   "metadata": {
    "id": "rSpzLvv_8s0F"
   },
   "source": [
    "SMOTE slightly improves our results.\n",
    " We now manage to find all cases of fraud, but we have a 4 false positives cases. \n",
    " Not in all cases does resampling necessarily lead to better results. When the fraud cases are very spread and scattered over the data, using SMOTE can introduce a bit of bias. Nearest neighbors aren't necessarily also fraud cases, so the synthetic samples might 'confuse' the model slightly. "
   ]
  },
  {
   "cell_type": "code",
   "execution_count": null,
   "metadata": {
    "id": "ia7kuYso0rNc"
   },
   "outputs": [],
   "source": []
  }
 ],
 "metadata": {
  "colab": {
   "collapsed_sections": [],
   "name": "Welcome To Colaboratory",
   "provenance": []
  },
  "kernelspec": {
   "display_name": "Python 3",
   "language": "python",
   "name": "python3"
  },
  "language_info": {
   "codemirror_mode": {
    "name": "ipython",
    "version": 3
   },
   "file_extension": ".py",
   "mimetype": "text/x-python",
   "name": "python",
   "nbconvert_exporter": "python",
   "pygments_lexer": "ipython3",
   "version": "3.8.3"
  }
 },
 "nbformat": 4,
 "nbformat_minor": 1
}
